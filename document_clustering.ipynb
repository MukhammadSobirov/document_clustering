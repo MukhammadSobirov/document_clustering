{
 "cells": [
  {
   "cell_type": "code",
   "execution_count": 16,
   "metadata": {},
   "outputs": [],
   "source": [
    "from nltk.tokenize import word_tokenize\n",
    "import re"
   ]
  },
  {
   "cell_type": "code",
   "execution_count": 17,
   "metadata": {},
   "outputs": [
    {
     "name": "stdout",
     "output_type": "stream",
     "text": [
      "['How to get band 8 in IELTS reading test?', '2 dq.', '22/04/2023', 'The IELTS Reading test is a crucial component of the IELTS exam, and getting a high score in it can significantly increase your chances of achieving an overall band score of 8 or higher. The Reading test measures your ability to understand and analyze complex texts in English. Here are some tips to help you achieve band 8 in IELTS Reading:', '', 'Practice with authentic materials: The IELTS Reading test includes a variety of authentic texts, such as academic articles and newspaper articles. To prepare for the test, practice reading these types of materials and familiarize yourself with the vocabulary and sentence structures commonly used.', \"Skim and scan the text: Skimming and scanning are essential techniques for the IELTS Reading test. Skimming is the process of quickly reading a text to get a general idea of what it's about, while scanning involves looking for specific information. Practice these techniques to help you save time and improve your accuracy.\", 'Learn new vocabulary: Expanding your vocabulary is crucial for achieving a high score in IELTS Reading. Make a list of new words you come across in your practice materials and learn their definitions and how to use them in context. ', 'Understand the question types: There are various types of questions in the IELTS Reading test, including multiple-choice, matching, and true/false/not given. Make sure you understand each type and how to approach it to maximize your score.', 'Time management: The IELTS Reading test is timed, and you have 60 minutes to answer 40 questions. Practice with timed tests to help you manage your time effectively and avoid spending too much time on any one question.', \"Read actively: Actively reading means engaging with the text by underlining key points, making notes, and summarizing what you've read. This technique can help you stay focused and better understand the text.\", 'In summary, achieving band 8 in IELTS Reading requires practice, strategy, and focus. By practicing with authentic materials, using skimming and scanning techniques, expanding your vocabulary, understanding the question types, managing your time effectively, and reading actively, you can maximize your score and achieve your IELTS goals.', '', 'Приветствуем всех, кто готовится к тесту IELTS Listening! Если вы хотите получить высокий балл например 8, и у вас есть всего лишь 4 месяца для подготовки, тогда эта статья предназначена именно для вас. ', '', 'В этой статье мы поделимся с вами несколькими полезными советами, которые помогут вам достичь этой цели.', '', ' ', '', 'Практикуйтесь ежедневно: Один из самых важных факторов в подготовке к IELTS Listening - это регулярная практика. Постарайтесь слушать аудио материалы каждый день и решать задания.', 'Используйте официальные материалы: Используйте только официальные материалы IELTS Listening, чтобы получить представление о структуре и типах вопросов. Это поможет вам понимать, как лучше готовиться к экзамену.', 'Слушайте различные типы записей: В IELTS Listening вам придется слушать различные типы записей - от диалогов до лекций. Это поможет привыкнуть к различным форматам и разговорным стилям.', 'Определите свои слабые места: Изучите свои слабые места и работайте над ними. Постарайтесь понять, какие типы вопросов вызывают у вас затруднения, и сосредоточьтесь на них.', 'Работайте над словарным запасом: В IELTS Listening часто используются сложные слова и выражения. Постарайтесь улучшить свой словарный запас, используя различные источники, такие как словари и аудио-книги.', 'Изучайте грамматику: Хорошее знание грамматики также важно для успешной сдачи IELTS Listening. Работайте над улучшением своих грамматических навыков, используя учебники и онлайн-курсы.', 'Тренируйте свои навыки управления временем: Управление временем - это важный навык в IELTS Listening. Учитесь эффективно распределять время на каждый вопрос, чтобы не оставаться без времени на ответы.', 'Соблюдая эти советы и работая упорно каждый день, вы можете успешно подготовиться к IELTS Listening за 4 месяца и получить 8!', \"Keling, birinchi navbatda IELTS nima ekanligini ko'rib chiqaylik. \", ' ', '', \"IELTS bu - (International English Language Testing System) - buyruq qabul qilish, o'qish, yozish va gaplashish bo'yicha ingliz tilini bilish darajasi sinovlaridan biri. Ushbu sinov muddati 2 yilgacha amal qiladi va talabalarning ingliz tili bilish darajasini baholashga yordam beradi. IELTS imtihoni dunyo bo'ylab ko'p joyda qabul qilinadi va ingliz tili bilishni baholash uchun eng yaxshi sinovlaridan biri sifatida taniladi.\", '', ' ', '', 'IELTS imtihoniga tayyorlanish uchun 5ta layfhaklar ', '', '', 'Quyidagi foydali maslahatlar: ', '', \"Ingliz tilidagi audio va video'ni tinglang. Bu tilni tushunishni yaxshilash va eshitish qobiliyatini o'rganishga yordam beradi.\", \"Ingliz tili kitoblarini va maqolalarini o'qing. Bu o'qish qobiliyatini yaxshilash va so'zlashgan so'zlar ro'yxatini kengaytirishga yordam beradi.\", \"So'zlashgan amaliyotni o'rganing. Ingliz tili bilan gaplashishingiz mumkin bo'lgan odamni topishga harakat qiling. Bu gaplashish qobiliyatini yaxshilashga yordam beradi.\", \"Testlarni bajarish strategiyalarini o'rganing. IELTS materiallaridan foydalanib vazifalarni hal qilish qobiliyatini yaxshilashga yordam beradi.\", \"Grammatikani unutmang. Grammatikaviy qoidalarini o'rganing va ularni amaliyotda qo'llashingiz mumkin.\", ' ', '', \"Bu layfhaklar yordamida Ingliz tilini o'rganish qobiliyatlaringizni kengaytirishingiz va IELTS imtihonidan muvaffaqiyatli o'tishga erishishingiz mumkin!\", \"Bir ish topish uchun eng muhim qadam - rezyume yozish. Bu sizning ishga qabul qilinganingizga ko'pincha ta'sir qiladi. Bu sabablarga, rezyume sizning kasbingiz va ish haqida fikringiz haqida qiziquvchanlikni oshiradi. \", ' ', '', \"Birinchi navbatda, rezyume yozish uchun qulay va oson usul - siz o'zingiz haqingizda yozasiz. Bu shu jihatdan, sizning ish haqida fikringiz va qobiliyatlariga e'tibor beriladi. Rezyume yozishda eng muhim narsa, sizning kasbingizga mos keladigan, ishga qabul qiluvchini jalb qiluvchi qobiliyatlar va tajribalarni keltirishdir.\", '', ' ', '', \"Rezyume yozishda sizning ish tajribangizni, ta'limingizni, shaxsiy qobiliyatlaringizni va qo'shimcha ma'lumotlaringizni keltirishingiz kerak. Bu ma'lumotlar sizning ishga qabul qilinishingizni oshiradi. Sizning rezyume yozish usuliga qarab, sizning ishga qabul qilinishingizni aniqlash mumkin.\", '', ' ', '', \"Birinchi qadamda, sizning ism-familiyangiz va aloqa ma'lumotlaringizni keltirishingiz kerak. Keyin, sizning maqsadingizni va qisqacha ma'lumotlarni keltirishingiz kerak. Ushbu ma'lumotlar sizning ishga qabul qilinishingizni oshiradi.\", '', ' ', '', \"Keyin, sizning ish tajribangizni keltirishingiz kerak. Bu ish tajribasi sizning ish haqida fikringizni va qobiliyatlariga e'tibor beradi. Sizning ish tajribangizni keltirish orqali, sizning ishga qabul qilinishingizni aniqlash mumkin.\", '', ' ', '', \"Sizning ta'limingizni keltirishingiz kerak. Bu ta'lim sizning ishga qabul qilinishingizni oshiradi. Sizning ta'limingizni keltirish orqali, sizning ishga qabul qilinishingizni aniqlash mumkin. \", ' ', '', \"Shaxsiy qobiliyatlar va qo'shimcha ma'lumotlarni keltirishingiz kerak. Bu qobiliyatlar sizning ishga qabul qilinishingizni oshiradi. Sizning shaxsiy qobiliyatlar va qo'shimcha ma'lumotlaringizni keltirish orqali, sizning ishga qabul qilinishingizni aniqlash mumkin.\", '', ' ', '', 'Sizning rezyume yozish usuliga qarab, sizning ishga qabul qilinishingizni aniqlash mumkin. Rezyume yozishda eng muhim narsa, sizning kasbingizga mos keladigan, ishga qabul qiluvchini jalb qiluvchi qobiliyatlar va tajribalarni keltirishdir. Sizning rezyume yozish usuliga qarab, sizning ishga qabul qilinishingizni aniqlash mumkin.', '', ' ', '', \"Rezyume yozishda sizning ish tajribangizni, ta'limingizni, shaxsiy qobiliyatlaringizni va qo'shimcha ma'lumotlaringizni keltirishingiz kerak. Bu ma'lumotlar sizning ishga qabul qilinishingizni oshiradi.\", 'Английский является одним из самых распространенных языков в мире и одним из шести официальных языков Организации Объединенных Наций. Изучение английского имеет много преимуществ, начиная от улучшения перспектив по поиску работы и заканчивая увеличением культурного понимания. В этой статье мы рассмотрим несколько главных причин для изучения английского.', '', ' ', '', 'Улучшение перспектив по поиску работы', 'man standing in front of people sitting beside table with laptop computers', 'Иметь хотя бы некоторые знания английского языка может предоставить большие возможности для ищущих работу. Английский не только является общим языком для международного бизнеса, но также служит основой для работы в многих востребованных отраслях. Знание английского не только поможет в поиске нужной работы, но также наделит вас возможностью получить более высокую заработную плату. Кроме того, знание языка предоставит вам больше возможностей для успеха на работе, поскольку вы сможете общаться с новыми коллегами и клиентами более эффективно.', '', ' ', '', 'Увеличение культурного понимания', 'group of people posing for photo', 'Изучение английского языка предоставляет уникальную возможность расширить культурное горизонты. Английский близок ко многим славянским, германским и другим языкам. Поэтому, изучая английский язык, вы получаете более глубокое понимание культуры других стран. Вы сможете легко читать литературу, а также понимать музыку и фильмы из разных стран. Это позволит вам общаться с людьми из разных культурных образований и по-настоящему понять их мировоззрение.', '', ' ', '', 'Улучшение общения', 'two people drawing on whiteboard', 'Изучая английский, вы откроете себя для целого мира возможностей. Вы сможете общаться с людьми всего мира, делать друзей, поискать бизнес-партнеров и сотрудничать с ними. Вы получите самые разнообразные впечатления, испытаете радость и удовольствие от возможностей, открывающихся перед вами. Просто думайте о том, как много вы сможете достичь, изучая английский, и о том, как много интересных вещей вы сможете узнать.', '', ' ', '', 'Заключение', 'Изучение английского может быть отличным способом улучшить перспективы по поиску работы, увеличить культурное понимание и открыть новые возможности для общения. Независимо от того, изучаете ли вы английский для бизнеса или для удовольствия, этот язык обязательно принесет вам какую-то пользу.', '', 'Coursetop', \"Oliy ta'limning kelajagi - bu turli sohalardagi o'qituvchilar, siyosatchilar va ekspertlar tomonidan muhokama qilinadigan mavzu. Ta'limning kelajagi qanday bo'lishini aniq bashorat qilish qiyin bo'lsa-da, kelgusi yillarda bizning o'rganish uslubimizni shakllantirishi mumkin bo'lgan bir nechta tendentsiyalar va o'zgarishlar mavjud.\", '', ' ', '', 'people sitting down near table with assorted laptop computers', \"Ta'lim kelajagiga allaqachon ta'sir ko'rsatayotgan tendentsiyalardan biri texnologiyadan foydalanishning ortib borishidir. Onlayn o'quv platformalaridan tortib ta'lim ilovalari va virtual haqiqat tajribasigacha texnologiya kurs materiallarini yetkazib berish va o'rganishni osonlashtirish usuli sifatida tobora ko'proq foydalanilmoqda. Texnologiya ta'lim uchun qimmatli vosita bo'lishi mumkin bo'lsa-da, uning an'anaviy ta'lim shakllariga ta'siri va texnologiyadan foydalanishda tengsizliklar ehtimoli haqida xavotirlar ham mavjud.\", '', ' ', '', 'woman placing sticky notes on wall', \"Ta'limning kelajagini shakllantirishi mumkin bo'lgan yana bir tendentsiya - bu tajriba va amaliy o'rganishga e'tiborning kuchayishi. Ta'limga bunday yondashuv amaliy, real tajribaning muhimligini ta'kidlaydi va talabalarni muammolarni hal qilish va yangi echimlarni yaratish uchun o'z bilim va ko'nikmalarini qo'llashga undaydi. Ushbu tendentsiya qisman mehnat bozorining o'zgaruvchan ehtiyojlari bilan izohlanadi, bu esa tanqidiy fikrlash va muammolarni hal qila oladigan ishchilarni tobora ko'proq qadrlaydi.\", '', ' ', '', \"Shuningdek, ta'limning kelajagi ko'proq shaxsiylashtirilgan va moslashtirilgan ta'lim tajribasiga o'tishni ko'rishi mumkin. Texnologiyalar yordamida o'qituvchilar o'zlarining o'qitish usullari va kurs materiallarini o'quvchilarning individual ehtiyojlari va o'rganish uslublariga moslashtirishlari mumkin.\", '', ' ', '', \"Umuman olganda, rasmiy ta'limning kelajagi shu va boshqa tendentsiyalarning uyg'unligi bilan shakllantirilishi mumkin. Kelajakda nima bo‘lishini aniq bashorat qilishning iloji bo‘lmasa-da, ta’lim o‘quvchilar va jamiyatning o‘zgaruvchan ehtiyojlarini qondirish uchun rivojlanishda davom etishi va moslashishi aniq.\", '', '1. Программирование ', 'Самыми популярными есть и будут в 2023 году языки Python и JavaScript. Их легко изучать, поэтому подходят для новичков, а рынок готов предоставить много возможностей разработчикам с хорошим знанием этой пары. Для корпоративной среды больше подходят Java и PHP.', '', ' ', '', 'Еще программирование помогает развить логику, структурно мыслить и — если вы уже вынуждены общаться с разработчиками — облегчить с ними коммуникацию (людям вокруг тоже приятно, если вы понятливый). «Самое главное, программирование дает возможность абсолютно самостоятельно реализовывать идеи, создавать продукт с нуля.', '', ' ', '', '2. Английский язык  ', 'На сегодняшний день английский язык является одним из самых популярных языков мира. Приблизительно 1,5 млрд. человек владеет английским языком, и где-то 1 млрд. изучает его. Английский охватил все сферы жизнедеятельности человека: наука, средства массовой информации, учеба, работа и досуг. Поэтому вопрос «Зачем следует учить английский язык?» сегодня звучит несколько странно. Но только не для тех, кто еще не успел пополнить ряды изучающих. И для того, чтобы в совершенстве овладеть английским, нужна сильная мотивация, которая будет постоянно побуждать и вдохновлять человека на новые победы.', '', ' ', '', 'Плюсы изучать английский язык: ', '', 'Перспективная работа', 'Просмотр фильмов в оригинале', 'Чтение книг в оригинале', 'Возможность идти в ногу со временем', 'Образование заграницей ', 'Путешествия', 'Новые знакомства', 'Престижное хобби', 'Знакомство с культурой англоязычных стран', 'Доступность', 'Вывод', 'Работа в иностранной компании', 'Вести бизнес с иностранными партнёрами', 'Coursetop', 'img', '']\n"
     ]
    }
   ],
   "source": [
    "# load txt file\n",
    "dataset = open('input.txt', 'r').read()\n",
    "\n",
    "chats = dataset.split('\\n')\n",
    "\n",
    "print(chats)"
   ]
  },
  {
   "cell_type": "code",
   "execution_count": 18,
   "metadata": {},
   "outputs": [
    {
     "data": {
      "text/plain": [
       "['reading']"
      ]
     },
     "execution_count": 18,
     "metadata": {},
     "output_type": "execute_result"
    }
   ],
   "source": [
    "def remove_noise(text, stop_words = []):\n",
    "    tokens = word_tokenize(text)\n",
    "    cleaned_tokens = []\n",
    "    for token in tokens:\n",
    "        # remove punctuation\n",
    "        token = re.sub('[^А-Яа-я0-9A-Za-z]+', '', token)\n",
    "\n",
    "        # remove short words and stop words\n",
    "        if len(token) > 5 and token.lower() not in stop_words:\n",
    "            cleaned_tokens.append(token.lower())\n",
    "    return cleaned_tokens\n",
    "\n",
    "remove_noise(chats[0])"
   ]
  },
  {
   "cell_type": "code",
   "execution_count": 19,
   "metadata": {},
   "outputs": [
    {
     "name": "stdout",
     "output_type": "stream",
     "text": [
      "(156, 26)\n",
      "156\n"
     ]
    }
   ],
   "source": [
    "# Import TfidfVectorizer class from sklearn\n",
    "from sklearn.feature_extraction.text import TfidfVectorizer\n",
    "\n",
    "# Initialize TfidfVectorizer\n",
    "tfidf_vectorizer = TfidfVectorizer(max_df=0.5, max_features=50, min_df=0.02, tokenizer=remove_noise)\n",
    "\n",
    "# Use the .fit_transform() method on the list plots\n",
    "tfidf_matrix = tfidf_vectorizer.fit_transform(chats)\n",
    "\n",
    "# Print the shape of tfidf_matrix\n",
    "print(tfidf_matrix.shape)\n",
    "print(tfidf_matrix.shape[0])"
   ]
  },
  {
   "cell_type": "code",
   "execution_count": 20,
   "metadata": {},
   "outputs": [
    {
     "name": "stdout",
     "output_type": "stream",
     "text": [
      "['sizning', 'rezyume', 'qilinishingizni', 'keltirishingiz', 'oshiradi', 'aniqlash', 'haqida', 'malumotlaringizni', 'yozish', 'yozishda']\n",
      "['reading', 'practice', 'aniqlash', 'beradi', 'haqida', 'ingliz', 'keltirishingiz', 'listening', 'malumotlaringizni', 'mumkin']\n",
      "['listening', 'английский', 'mumkin', 'people', 'ingliz', 'talimning', 'работы', 'получить', 'английского', 'общаться']\n"
     ]
    }
   ],
   "source": [
    "from scipy.cluster.vq import kmeans\n",
    "\n",
    "num_clusters = 3\n",
    "\n",
    "# Check if tfidf_matrix has enough data points\n",
    "if tfidf_matrix.shape[0] < num_clusters:\n",
    "    print(\"Error: Insufficient data points for the desired number of clusters.\")\n",
    "else:\n",
    "    cluster_centers, distortion = kmeans(tfidf_matrix.todense(), num_clusters)\n",
    "    \n",
    "    # Generate terms from the tfidf_vectorizer object\n",
    "    terms = tfidf_vectorizer.get_feature_names_out()\n",
    "\n",
    "    for i in range(len(cluster_centers)):\n",
    "        # Sort the terms and print top 3 terms\n",
    "        center_terms = dict(zip(terms, list(cluster_centers[i])))\n",
    "        sorted_terms = sorted(center_terms, key=center_terms.get, reverse=True)\n",
    "        print(sorted_terms[:10])\n"
   ]
  }
 ],
 "metadata": {
  "kernelspec": {
   "display_name": "base",
   "language": "python",
   "name": "python3"
  },
  "language_info": {
   "codemirror_mode": {
    "name": "ipython",
    "version": 3
   },
   "file_extension": ".py",
   "mimetype": "text/x-python",
   "name": "python",
   "nbconvert_exporter": "python",
   "pygments_lexer": "ipython3",
   "version": "3.9.13"
  },
  "orig_nbformat": 4
 },
 "nbformat": 4,
 "nbformat_minor": 2
}
